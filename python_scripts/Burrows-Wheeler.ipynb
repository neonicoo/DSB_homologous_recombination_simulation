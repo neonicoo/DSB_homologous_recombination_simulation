{
 "cells": [
  {
   "cell_type": "code",
   "execution_count": null,
   "id": "9574f83c",
   "metadata": {},
   "outputs": [],
   "source": [
    "%matplotlib inline"
   ]
  },
  {
   "cell_type": "code",
   "execution_count": null,
   "id": "1e2acf17",
   "metadata": {},
   "outputs": [],
   "source": [
    "import pandas as pd\n",
    "import numpy as np\n",
    "import seaborn as sns\n",
    "import copy\n",
    "import re\n",
    "import math\n",
    "import os\n",
    "import pathlib\n",
    "import matplotlib.pyplot as plt\n",
    "from Bio import SeqIO\n",
    "from collections import Counter"
   ]
  },
  {
   "cell_type": "code",
   "execution_count": null,
   "id": "43b56d76",
   "metadata": {},
   "outputs": [],
   "source": [
    "LY = (\"ATGACTAACGAAAAGGTCTGGATAGAGAAGTTGGATAATCCAACTCTTTCAGTGTTACCACATGACTTTTTACGCCCACAACAAGAACCTTATACGAAACAAGCTACATATTCGTTACAGCTACCTCAGCTCGATGTGCCTCATGATAGTTTTTCTAACAAATACGCTGTCGCTTTGAGTGTATGGGCTGCATTGATATATAGAGTAACCGGTGACGATGATATTGTTCTTTATATTGCGAATAACAAAATCTTAAGATTCAATATTCAACCAACGTGGTCATTTAATGAGCTGTATTCTACAATTAACAATGAGTTGAACAAGCTCAATTCTATTGAGGCCAATTTTTCCTTTGACGAGCTAGCTGAAAAAATTCAAAGTTGCCAAGATCTGGAAAGGACCCCTCAGTTGTTCCGTTTGGCCTTTTTGGAAAACCAAGATTTCAAATTAGACGAGTTCAAGCATCATTTAGTGGACTTTGCTTTGAATTTGGATACCAGTAATAATGCGCATGTTTTGAACTTAATTTATAACAGCTTACTGTATTCGAATGAAAGAGTAACCATTGTTGCGGACCAATTTACTCAATATTTGACTGCTGCGCTAAGCGATCCATCCAATTGCATAACTAAAATCTCTCTGATCACCGCATCATCCAAGGATAGTTTACCTGATCCAACTAAGAACTTGGGCTGGTGCGATTTCGTGGGGTGTATTCACGACATTTTCCAGGACAATGCTGAAGCCTTCCCAGAGAGAACCTGTGTTGTGGAGACTCCAACACTAAATTCCGACAAGTCCCGTTCTTTCACTTATCGCGACATCAACCGCACTTCTAACATAGTTGCCCATTATTTGATTAAAACAGGTATCAAAAGAGGTGATGTAGTGATGATCTATTCTTCTAGGGGTGTGGATTTGATGGTATGTGTGATGGGTGTCTTGAAAGCCGGCGCAACCTTTTCAGTTATCGACCCTGCATATCCCCCAGCCAGACAAACCATTTACTTAGGTGTTGCTAAACCACGTGGGTTGATTGTTATTAGAGCTGCTGGACAATTGGATCAACTAGTAGAAGATTACATCAATGATGAATTGGAGATTGTTTCAAGAATCAATTCCATCGCTATTCAAGAAAATGGTACCATTGAAGGTGGCAAATTGGACAATGGCGAGGATGTTTTGGCTCCATATGATCACTACAAAGACACCAGAACAGGTGTTGTAGTTGGACCAGATTCCAACCCAACCCTATCTTTCACATCTGGTTCCGAAGGTATTCCTAAGGGTGTTCTTGGTAGACATTTTTCCTTGGCTTATTATTTCAATTGGATGTCCAAAAGGTTCAACTTAACAGAAAATGATAAATTCACAATGCTGAGCGGTATTGCACATGATCCAATTCAAAGAGATATGTTTACACCATTATTTTTAGGTGCCCAATTGTATGTCCCTACTCAAGATGATATTGGTACACCGGGCCGTTTAGCGGAATGGATGAGTAAGTATGGTTGCACAGTTACCCATTTAACACCTGCCATGGGTCAATTACTTACTGCCCAAGCTACTACACCATTCCCTAAGTTACATCATGCGTTCTTTGTGGGTGACATTTTAACAAAACGTGATTGTCTGAGGTTACAAACCTTGGCAGAAAATTGCCGTATTGTTAATATGTACGGTACCACTGAAACACAGCGTGCAGTTTCTTATTTCGAAGTTAAATCAAAAAATGACGATCCAAACTTTTTGAAAAAATTGAAAGATGTCATGCCTGCTGGTAAAGGTATGTTGAACGTTCAGCTACTAGTTGTTAACAGGAACGATCGTACTCAAATATGTGGTATTGGCGAAATAGGTGAGATTTATGTTCGTGCAGGTGGTTTGGCCGAAGGTTATAGAGGATTACCAGAATTGAATAAAGAAAAATTTGTGAACAACTGGTTTGTTGAAAAAGATCACTGGAATTATTTGGATAAGGATAATGGTGAACCTTGGAGACAATTCTGGTTAGGTCCAAGAGATAGATTGTACAGAACGGGTGATTTAGGTCGTTATCTACCAAACGG\").lower()\n",
    "donor = (\"ATGACTAACGAAAAGGTCTGGATAGAGAAGTTGGATAATCCAACTCTTTCAGTGTTACCACATGACTTTTTACGCCCACAACAAGAACCTTATACGAAACAAGCTACATATTCGTTACAGCTACCTCAGCTCGATGTGCCTCATGATAGTTTTTCTAACAAATACGCTGTCGCTTTGAGTGTATGGGCTGCATTGATATATAGAGTAACCGGTGACGATGATATCTTTATATTGATCTATCTATACTACTACCGAATAACAAAATCTTAAGATTCTTCAACCAACGTGGTCATTTAATGAGCTGTATTCTACAATTAACAATGAGTTGAACAAGCTCAATTCTATTGAGGCCAATTTTTCCTTTGACGAGCTAGCTGAAAAAATTCAAAGTTGCCAAGATCTGGAAAGGACCCCTCAGTTGTTCCGTTTGGCCTTTTTGGAAAACCAAGATTTCAAATTAGACGAGTTCAAGCATCATTTAGTGGACTTTGCTTTGAATTTGGATACCAGTAATAATGCGCATGTTTTGAACTTAATTTATAACAGCTTACTGTATTCGAATGAAAGAGTAACCATTGTTGCGGACCAATTTACTCAATATTTGACTGCTGCGCTAAGCGATCCATCCAATTGCATAACTAAAATCTCTCTGATCACCGCATCATCCAAGGATAGTTTACCTGATCCAACTAAGAACTTGGGCTAAAAAAGGTGCGATTTCGTGGGGTGTATTCAGGGCGACATTTTCCAGGAACTACTAGGGGGATGCTGAAGCCTTCCCAGAGAGAACCTGTGTTGTGGAGACTCCAACACTAAATTCCGACAAGTCCCGTTCTTTCACTTATCGCGACATCAACCGCACTTCTAACATAGTTGCCCATTATTTGATTAAAACAGGTATCAAAAGAGGTGATGTAGTGATGATCTATTCTTCTAGGGGTGTGGATTTGATGGTATGTGTGATGGGTGTCTTGAAAGCCGGCGCAACCTTTTCAGTTATCGACCCTGCATATCCCCCAGCCAGACAAACCATTTACTTAGGTGTTGCTAAACCACGTGGGTTGATTGTTATTAGAGCTGCTGGACAATTGGATCAACTAGTAGAAGATTACATCAATGATGAATTGGAGATTGTTTCAAGAATCAATTCCATCGCTATTCAAGAAAATGGTACCATTGAAGGTGGCAAATTGGACAATGGCGAGGATGTTTTGGCTCCATATGATCACTACAAAGACACCAGAACAGGTGTTGTAGTTGGACCAGATTCCAACCCAACCCTATCTTTCACATCTGGTTCCGAAGGTATTCCTAAGGGTGTTCTTGGTAGACATTTTTCCTTGGCTTATTATTTCAATTGGATGTCCAAAAGGTTCAACTTAACAGAAAATGATAAATTCACAATGCTGAGCGGTATTGCACATGATCCAATTCAAAGAGATATGTTTACACCATTATTTTTAGGTGCCCAATTGTATGTCCCTACTCAAGATGATATTGGTACACCGGGCCGTTTAGCGGAATGGATGAGTAAGTATGGTTGCACAGTTACCCATTTAACACCTGCCATGGGTCAATTACTTACTGCCCAAGCTACTACACCATTCCCTAAGTTACATCATGCGTTCTTTGTGGGTGACATTTTAACAAAACGTGATTGTCTGAGGTTACAAACCTTGGCAGAAAATTGCCGTATTGTTAATATGTACGGTACCACTGAAACACAGCGTGCAGTTTCTTATTTCGAAGTTAAATCAAAAAATGACGATCCAAACTTTTTGAAAAAATTGAAAGATGTCATGCCTGCTGGTAAAGGTATGTTGAACGTTCAGCTACTAGTTGTTAACAGGAACGATCGTACTCAAATATGTGGTATTGGCGAAATAGGTGAGATTTATGTTCGTGCAGGTGGTTTGGCCGAAGGTTATAGAGGATTACCAGAATTGAATAAAGAAAAATTTGTGAACAACTGGTTTGTTGAAAAAGATCACTGGAATTATTTGGATAAGGATAATGGTGAACCTTGGAGACAATTCTGGTTAGGTCCAAGAGATAGATTGAGAACGGGTGATTTAGGTCGTTATCTACCAAACGGATAGCATGATGGCGCGCTACTAGACTTATATATTATGCTAGCGTAGCTGAC\").lower()"
   ]
  },
  {
   "cell_type": "code",
   "execution_count": null,
   "id": "8533dbd6",
   "metadata": {},
   "outputs": [],
   "source": [
    "def levenstein_distance(S,T,return_matrix=False):\n",
    "    L = np.zeros((len(S)+1,len(T)+1))\n",
    "    L[0,:] = range(len(T)+1)\n",
    "    L[:,0] = range(len(S)+1)\n",
    "    for i in range(1,len(S)+1):\n",
    "        for j in range(1,len(T)+1):\n",
    "            comparison = int(S[i-1]!=T[j-1])\n",
    "            L[i,j] = min([L[i-1,j] + 1, L[i,j-1] + 1, L[i-1,j-1] + comparison])\n",
    "    if return_matrix:\n",
    "        return L\n",
    "    return(L[-1,-1])"
   ]
  },
  {
   "cell_type": "code",
   "execution_count": null,
   "id": "d44a545a",
   "metadata": {},
   "outputs": [],
   "source": [
    "def circular_shift(text,k):\n",
    "    return text[-k:]+text[:-k]"
   ]
  },
  {
   "cell_type": "code",
   "execution_count": null,
   "id": "9336f5f1",
   "metadata": {},
   "outputs": [],
   "source": [
    "def bwt(text,verbose=False):\n",
    "    if text[-1] != \"$\":\n",
    "        text += \"$\"\n",
    "    rotations = []\n",
    "    for k in range(1,len(text)+1):\n",
    "        circular_shifted_text = circular_shift(text,k)\n",
    "        rotations.append(circular_shifted_text)\n",
    "    rotations = sorted(rotations)\n",
    "    if verbose:\n",
    "        for circular_shifted_text in rotations:\n",
    "            print(circular_shifted_text)\n",
    "    bwt = \"\".join([r[-1] for r in rotations])\n",
    "    return(bwt)"
   ]
  },
  {
   "cell_type": "code",
   "execution_count": null,
   "id": "ac960f7e",
   "metadata": {},
   "outputs": [],
   "source": [
    "def compress(S):\n",
    "    i = 1\n",
    "    result = \"\"\n",
    "    current_char = S[0]\n",
    "    count = 1\n",
    "    while i < len(S):\n",
    "        if S[i] == current_char:\n",
    "            count += 1\n",
    "        else:\n",
    "            result += current_char\n",
    "            if count > 1:\n",
    "                result += str(count)\n",
    "            current_char = S[i]\n",
    "            count = 1\n",
    "        i += 1\n",
    "    return(result)"
   ]
  },
  {
   "cell_type": "code",
   "execution_count": null,
   "id": "f735f7df",
   "metadata": {},
   "outputs": [],
   "source": [
    "chr1 = open(\"../yeast-genome/S288c-R64-2-1-v2014/chr1.fa\", \"r\")\n",
    "scores = []\n",
    "bwt_LY = bwt(LY)\n",
    "for record in SeqIO.parse(chr1, \"fasta\"):\n",
    "    nb_bins = math.ceil(len(record.seq)/10000)\n",
    "    sequence = str(record.seq).lower()\n",
    "    for b in range(1, nb_bins, 1):\n",
    "        seq_bin = bwt(sequence[b*10000:(b+1)*10000])\n",
    "        dist = levenstein_distance(bwt_LY, seq_bin)\n",
    "        scores.append((b, dist))\n",
    "        print(dist)\n",
    "chr1.close()"
   ]
  },
  {
   "cell_type": "code",
   "execution_count": null,
   "id": "cd755e30",
   "metadata": {},
   "outputs": [],
   "source": [
    "chr2 = open(\"../yeast-genome/S288c-R64-2-1-v2014/chr2.fa\", \"r\")\n",
    "scores = []\n",
    "for record in SeqIO.parse(chr2, \"fasta\"):\n",
    "    sequence = str(record.seq).lower()\n",
    "    seq_bin =sequence[470000:480000]\n",
    "    print(levenstein_distance(LY, seq_bin))\n",
    "chr2.close()"
   ]
  },
  {
   "cell_type": "code",
   "execution_count": null,
   "id": "48d22ddb",
   "metadata": {},
   "outputs": [],
   "source": []
  },
  {
   "cell_type": "code",
   "execution_count": null,
   "id": "fa1e81d4",
   "metadata": {},
   "outputs": [],
   "source": []
  }
 ],
 "metadata": {
  "kernelspec": {
   "display_name": "Python 3",
   "language": "python",
   "name": "python3"
  },
  "language_info": {
   "codemirror_mode": {
    "name": "ipython",
    "version": 3
   },
   "file_extension": ".py",
   "mimetype": "text/x-python",
   "name": "python",
   "nbconvert_exporter": "python",
   "pygments_lexer": "ipython3",
   "version": "3.8.8"
  }
 },
 "nbformat": 4,
 "nbformat_minor": 5
}
