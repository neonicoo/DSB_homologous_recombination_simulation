{
 "cells": [
  {
   "cell_type": "code",
   "execution_count": null,
   "id": "ae1b6a62",
   "metadata": {},
   "outputs": [],
   "source": [
    "%matplotlib inline"
   ]
  },
  {
   "cell_type": "code",
   "execution_count": null,
   "id": "63d8c122",
   "metadata": {},
   "outputs": [],
   "source": [
    "import pandas as pd\n",
    "import numpy as np\n",
    "import seaborn as sns\n",
    "import copy\n",
    "import re\n",
    "import os\n",
    "import matplotlib.pyplot as plt\n",
    "from Bio.SeqIO.FastaIO import FastaIterator\n",
    "from collections import Counter"
   ]
  },
  {
   "cell_type": "code",
   "execution_count": null,
   "id": "543cd845",
   "metadata": {},
   "outputs": [],
   "source": [
    "df = pd.read_csv(\"../datas/600_04_02_011_5_500_0005_5e-04/data/chromosomes_contacts.csv\", header=0, sep=\",\")\n",
    "df = df.drop(df.columns[[0, 1]], axis=1)\n",
    "df.head()"
   ]
  },
  {
   "cell_type": "code",
   "execution_count": null,
   "id": "6cec63a4",
   "metadata": {},
   "outputs": [],
   "source": [
    "df500 = df[df[\"length\"]== 500].iloc[:, 1:]\n",
    "df500.index = range(600)\n",
    "df1000 = df[df[\"length\"]== 1000].iloc[:, 1:]\n",
    "df1000.index = range(600)\n",
    "df2000 = df[df[\"length\"]== 2000].iloc[:, 1:]\n",
    "df2000.index = range(600)"
   ]
  },
  {
   "cell_type": "code",
   "execution_count": null,
   "id": "3a5247b4",
   "metadata": {},
   "outputs": [],
   "source": [
    "chr_vline = []\n",
    "for i,v in enumerate(df2000.columns):\n",
    "    if (v.split(\"_\")[1] == '1'):\n",
    "        chr_vline.append(i)\n",
    "chr_vline"
   ]
  },
  {
   "cell_type": "code",
   "execution_count": null,
   "id": "bb2f5016",
   "metadata": {},
   "outputs": [],
   "source": [
    "plt.figure(figsize = (30,20))\n",
    "df2000_filtered = copy.deepcopy(df2000)\n",
    "df2000_filtered[df2000 < 1 ]= np.nan\n",
    "sns.color_palette(\"mako\", as_cmap=True)\n",
    "ax = sns.heatmap(df2000_filtered, cmap = \"mako_r\")\n",
    "ax.vlines(chr_vline, *ax.get_xlim(), color=\"orange\", alpha = 0.8, linewidth =1)\n",
    "plt.savefig(\"../datas/chr_contacts_heatmap.jpg\")\n",
    "plt.show()"
   ]
  },
  {
   "cell_type": "code",
   "execution_count": null,
   "id": "9cecf84e",
   "metadata": {},
   "outputs": [],
   "source": []
  },
  {
   "cell_type": "code",
   "execution_count": null,
   "id": "664dad42",
   "metadata": {},
   "outputs": [],
   "source": []
  },
  {
   "cell_type": "code",
   "execution_count": null,
   "id": "c31bff2e",
   "metadata": {},
   "outputs": [],
   "source": []
  }
 ],
 "metadata": {
  "kernelspec": {
   "display_name": "Python 3",
   "language": "python",
   "name": "python3"
  },
  "language_info": {
   "codemirror_mode": {
    "name": "ipython",
    "version": 3
   },
   "file_extension": ".py",
   "mimetype": "text/x-python",
   "name": "python",
   "nbconvert_exporter": "python",
   "pygments_lexer": "ipython3",
   "version": "3.8.8"
  }
 },
 "nbformat": 4,
 "nbformat_minor": 5
}
