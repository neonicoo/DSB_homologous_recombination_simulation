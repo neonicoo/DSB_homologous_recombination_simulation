{
 "cells": [
  {
   "cell_type": "code",
   "execution_count": null,
   "id": "ae1b6a62",
   "metadata": {},
   "outputs": [],
   "source": [
    "%matplotlib inline"
   ]
  },
  {
   "cell_type": "code",
   "execution_count": null,
   "id": "63d8c122",
   "metadata": {},
   "outputs": [],
   "source": [
    "import pandas as pd\n",
    "import numpy as np\n",
    "import seaborn as sns\n",
    "import copy\n",
    "import os\n",
    "import matplotlib.pyplot as plt\n",
    "from collections import Counter\n",
    "from pathlib import Path"
   ]
  },
  {
   "cell_type": "code",
   "execution_count": null,
   "id": "21d5bb50",
   "metadata": {},
   "outputs": [],
   "source": [
    "p = Path('../../datas0')\n",
    "datas = [subdir for subdir in p.iterdir() if subdir.is_dir()]"
   ]
  },
  {
   "cell_type": "code",
   "execution_count": null,
   "id": "bb89bfbc",
   "metadata": {},
   "outputs": [],
   "source": [
    "def make_heatmap(dir_path):\n",
    "    path = str(dir_path)+\"/data/\"\n",
    "    df = pd.read_csv(path+\"chromosomes_contacts.csv\", header=0, sep=\",\")\n",
    "    df = df.drop(df.columns[[0, 1]], axis=1)\n",
    "    fragments_list = list(Counter(df[\"length\"]).keys())\n",
    "    nb_fragments = len(fragments_list)\n",
    "    num_time_steps = int(len(df)/nb_fragments)\n",
    "    \n",
    "    df_dict_fragment = {}\n",
    "    for fragment in fragments_list:\n",
    "        df_dict_fragment[\"df%s\" %fragment] = df[df[\"length\"]== fragment].iloc[:, 1:]\n",
    "        df_dict_fragment[\"df%s\" %fragment].index = range(num_time_steps)\n",
    "    \n",
    "    dftotal = sum(df_dict_fragment.values())/nb_fragments\n",
    "    \n",
    "    chr_vline = []\n",
    "    for i,v in enumerate(dftotal.columns):\n",
    "        if (v.split(\"_\")[1] == '1'):\n",
    "            chr_vline.append(i)\n",
    "    \n",
    "    plt.figure(figsize = (30,20))\n",
    "    df_filtered = copy.deepcopy(dftotal)\n",
    "    df_filtered[dftotal < 1 ]= np.nan\n",
    "    #sns.color_palette(\"mako\", as_cmap=True)\n",
    "    ax = sns.heatmap(df_filtered, cmap = \"rocket_r\")\n",
    "    #ax.vlines(chr_vline, *ax.get_xlim(), color=\"green\", linewidth =1, linestyle=\"-\")\n",
    "    plt.savefig(path + \"chromosomes_contact_heatmap.jpg\")\n",
    "    plt.close()\n",
    "    \n",
    "    print(dir_path)"
   ]
  },
  {
   "cell_type": "code",
   "execution_count": null,
   "id": "d922fdae",
   "metadata": {},
   "outputs": [],
   "source": [
    "for dir_ in datas :\n",
    "    make_heatmap(dir_)"
   ]
  },
  {
   "cell_type": "code",
   "execution_count": null,
   "id": "a4b1d7e4",
   "metadata": {},
   "outputs": [],
   "source": [
    "################ Test ###################"
   ]
  },
  {
   "cell_type": "code",
   "execution_count": null,
   "id": "543cd845",
   "metadata": {},
   "outputs": [],
   "source": [
    "df = pd.read_csv('/home/nicolas/Téléchargements/datas_16_06_21/600_06_02_001_001_0001_5_500_14_5_0/data/'+\"chromosomes_contacts.csv\", header=0, sep=\",\")\n",
    "df = df.drop(df.columns[[0, 1]], axis=1)\n",
    "df.head()"
   ]
  },
  {
   "cell_type": "code",
   "execution_count": null,
   "id": "52a7031f",
   "metadata": {},
   "outputs": [],
   "source": [
    "fragments_list = list(Counter(df[\"length\"]).keys())\n",
    "fragments_list"
   ]
  },
  {
   "cell_type": "code",
   "execution_count": null,
   "id": "253a6ee0",
   "metadata": {},
   "outputs": [],
   "source": [
    "nb_fragments = len(fragments_list)\n",
    "num_time_steps = int(len(df)/nb_fragments)"
   ]
  },
  {
   "cell_type": "code",
   "execution_count": null,
   "id": "ce2296ea",
   "metadata": {},
   "outputs": [],
   "source": [
    "df_dict_fragment = {}\n",
    "for fragment in fragments_list:\n",
    "    df_dict_fragment[\"df%s\" %fragment] = df[df[\"length\"]== fragment].iloc[:, 1:]\n",
    "    df_dict_fragment[\"df%s\" %fragment].index = range(num_time_steps)"
   ]
  },
  {
   "cell_type": "code",
   "execution_count": null,
   "id": "a964908c",
   "metadata": {},
   "outputs": [],
   "source": [
    "df_dict_fragment[\"df2185\"].head()"
   ]
  },
  {
   "cell_type": "code",
   "execution_count": null,
   "id": "7e2b3de5",
   "metadata": {},
   "outputs": [],
   "source": [
    "dftotal = sum(df_dict_fragment.values())/nb_fragments"
   ]
  },
  {
   "cell_type": "code",
   "execution_count": null,
   "id": "3a5247b4",
   "metadata": {},
   "outputs": [],
   "source": [
    "chr_vline = []\n",
    "for i,v in enumerate(dftotal.columns):\n",
    "    if (v.split(\"_\")[1] == '1'):\n",
    "        chr_vline.append(i)\n",
    "chr_vline"
   ]
  },
  {
   "cell_type": "code",
   "execution_count": null,
   "id": "bb2f5016",
   "metadata": {},
   "outputs": [],
   "source": [
    "plt.figure(figsize = (30,20))\n",
    "df_filtered = copy.deepcopy(dftotal)\n",
    "df_filtered[dftotal < 2 ]= np.nan\n",
    "#sns.color_palette(\"mako\", as_cmap=True)\n",
    "ax = sns.heatmap(df_filtered, cmap = \"rocket_r\")\n",
    "#ax.vlines(chr_vline, *ax.get_xlim(), color=\"green\", linewidth =1, linestyle=\"-\")\n",
    "#plt.savefig(path + \"chromosomes_contact_heatmap.jpg\")\n",
    "plt.show()"
   ]
  },
  {
   "cell_type": "code",
   "execution_count": null,
   "id": "9cecf84e",
   "metadata": {},
   "outputs": [],
   "source": []
  },
  {
   "cell_type": "code",
   "execution_count": null,
   "id": "664dad42",
   "metadata": {},
   "outputs": [],
   "source": []
  },
  {
   "cell_type": "code",
   "execution_count": null,
   "id": "c31bff2e",
   "metadata": {},
   "outputs": [],
   "source": []
  }
 ],
 "metadata": {
  "kernelspec": {
   "display_name": "Python 3",
   "language": "python",
   "name": "python3"
  },
  "language_info": {
   "codemirror_mode": {
    "name": "ipython",
    "version": 3
   },
   "file_extension": ".py",
   "mimetype": "text/x-python",
   "name": "python",
   "nbconvert_exporter": "python",
   "pygments_lexer": "ipython3",
   "version": "3.9.5"
  }
 },
 "nbformat": 4,
 "nbformat_minor": 5
}
