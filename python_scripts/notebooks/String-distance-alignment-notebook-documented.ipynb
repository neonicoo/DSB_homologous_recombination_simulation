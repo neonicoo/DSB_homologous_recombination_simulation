{
 "cells": [
  {
   "cell_type": "code",
   "execution_count": null,
   "metadata": {},
   "outputs": [],
   "source": [
    "%matplotlib inline"
   ]
  },
  {
   "cell_type": "code",
   "execution_count": null,
   "metadata": {},
   "outputs": [],
   "source": [
    "import matplotlib.pyplot as plt\n",
    "import numpy as np"
   ]
  },
  {
   "cell_type": "markdown",
   "metadata": {},
   "source": [
    "# Comparing distances\n",
    "## 1) String distances\n",
    "### 1.1) Hamming distance\n",
    "Let $S$ and $T$ be two strings of same length. \n",
    "The Hamming distance between these two strings is simply $d(T,S) = |\\{i \\quad \\forall i \\in \\{1,..., |S|\\} \\; | \\; T[i]\\neq S[i])$.\n",
    "This distance represent the number of positions where both strings differ, or in other words, the minimum number of substitutions (e.g., errors) that changed one string into the other."
   ]
  },
  {
   "cell_type": "code",
   "execution_count": null,
   "metadata": {},
   "outputs": [],
   "source": [
    "def hamming_distance(S,T):\n",
    "    if len(S) != len(T):\n",
    "        return None\n",
    "    d = 0\n",
    "    for i,s in enumerate(S):\n",
    "        d += s != T[i]\n",
    "    return d"
   ]
  },
  {
   "cell_type": "code",
   "execution_count": null,
   "metadata": {},
   "outputs": [],
   "source": [
    "hamming_distance(\"dans l'herbe noire les kobolds vont\",\n",
    "                 \"dans l'herbr noird lzs kobolds vont\")"
   ]
  },
  {
   "cell_type": "code",
   "execution_count": null,
   "metadata": {},
   "outputs": [],
   "source": [
    "hamming_distance(\"dans l'herbe noire les kobolds vont \",\n",
    "                 \" dans l'herbe noire les kobolds vont\")"
   ]
  },
  {
   "cell_type": "markdown",
   "metadata": {},
   "source": [
    "### 1.2) Levenshtein distance\n",
    "In order to compare strings that have different lengths, or strings that undergo other kinds of modification (e.g., insertions, deletionss), the Levenshtein distance can be used.\n",
    "\n",
    "Let $S$ and $T$ be two strings with possibly $|S| \\neq |T|$, and let $\\mathbb{1}_{S[i] \\neq T[i]}$ be the indicator function that is equal to one when $S[i] \\neq T[i]$ and 0 otherwise.\n",
    "\n",
    "Let $\\mathcal{L}_{S,T}(i,j)$ be the Levenshtein distance between the first $i$ characters of $S$ and the first $j$ characters of $T$:\n",
    "\n",
    "+ if $min(i,j)=0$: $\\quad \\mathcal{L}_{S,T}(i,j)= max(i,j)$ \n",
    "\n",
    "\n",
    "+ Otherwise:\n",
    "\n",
    "$$\n",
    "    \\mathcal{L}_{S,T}(i,j)= min\n",
    "\\begin{cases}\n",
    "    \\mathcal{L}_{S,T}(i-1,j) + 1\\\\\n",
    "    \\mathcal{L}_{S,T}(i,j-1) + 1\\\\\n",
    "    \\mathcal{L}_{S,T}(i-1,j-1) + \\mathbb{1}_{S[i] \\neq T[i]}\n",
    "\\end{cases}\n",
    "$$\n",
    "\n",
    "The Wagner–Fischer algorithm, can be used to compute the Levenshtein distance between $S$ and $T$. \n",
    "This dynamic programming algorithm, stores a matrix with the Levenshtein distances between all prefixes of both strings.\n",
    "The last value of the matrix (at row $|S|$ and column $|T|$) stores the Levenshtein distance between both strings."
   ]
  },
  {
   "cell_type": "code",
   "execution_count": null,
   "metadata": {},
   "outputs": [],
   "source": [
    "def Levenstein_distance(S,T,return_matrix=False):\n",
    "    L = np.zeros((len(S)+1,len(T)+1))\n",
    "    L[0,:] = range(len(T)+1)\n",
    "    L[:,0] = range(len(S)+1)\n",
    "    for i in range(1,len(S)+1):\n",
    "        for j in range(1,len(T)+1):\n",
    "            #print(L)\n",
    "            comparison = int(S[i-1]!=T[j-1])\n",
    "            L[i,j] = min([L[i-1,j] + 1, L[i,j-1] + 1, L[i-1,j-1] + comparison])\n",
    "    if return_matrix:\n",
    "        return L\n",
    "    return(L[-1,-1])\n",
    "\n",
    "Levenstein_distance(\"abc\",\"abdc\",True)"
   ]
  },
  {
   "cell_type": "code",
   "execution_count": null,
   "metadata": {},
   "outputs": [],
   "source": [
    "Levenstein_distance(\"dans l'herbe noire les kobolds vont \",\n",
    "                   \" dans l'herbe noire les kobolds vont le vent profond\")"
   ]
  },
  {
   "cell_type": "code",
   "execution_count": null,
   "metadata": {},
   "outputs": [],
   "source": [
    "L = Levenstein_distance(\"dans l'herbe noire les kobolds vont \",\n",
    "                        \" dans l'herbe noire les kobolds vont le vent profond\",\n",
    "                        return_matrix=True)\n"
   ]
  },
  {
   "cell_type": "code",
   "execution_count": null,
   "metadata": {},
   "outputs": [],
   "source": [
    "plt.imshow(L)"
   ]
  },
  {
   "cell_type": "markdown",
   "metadata": {},
   "source": [
    "## 3) Alignment\n",
    "\n",
    "### 3.1) Needleman-Wunsch - Global Alignment\n",
    "\n",
    "This algorithm performs a global sequence alignment, i.e., it finds the best alignment over the entire length of two sequences $S$ and $T$. Intuitively the algorithm seeks an alignment that maximizes the number of element-to-element matches.\n",
    "This dynamic programming algorithm is similar to the Wagner–Fischer algorithm.\n",
    "The underlying scoring system defined by Needleman and Wunsch is equal to 1 for matches,  -1 for mismatches or indels.\n",
    "Let $F_{S,T}(i,j)$ be the total number of matches scoring between the first $i$ elements of $S$ and the first $j$ elements of $T$:\n",
    "\n",
    "+ If $i=0$ or $j=0$ $F_{S,T}(i,j) = -max(i,j)$ \n",
    "\n",
    "+ Otherwise:\n",
    "\n",
    "$$\n",
    "        \\mathcal{F}_{S,T}(i,j)= max\n",
    "\\begin{cases}\n",
    "    \\mathcal{F}_{S,T}(i-1,j) - 1\\\\\n",
    "    \\mathcal{F}_{S,T}(i,j-1) - 1\\\\\n",
    "    \\mathcal{F}_{S,T}(i-1,j-1) - \\mathbb{1}_{S[i] \\neq T[i]} + \\mathbb{1}_{S[i] = T[i]}\n",
    "\\end{cases}\n",
    "$$\n",
    "\n",
    "+ Record the values of $F_{S,T}(i,j)$ in a matrix\n",
    "\n",
    "+ For each element in the matrix, record the decision that was made to reach this value: \n",
    "    + $\\mathcal{F}_{S,T}(i-1,j)$\n",
    "    + $\\mathcal{F}_{S,T}(i,j-1)$\n",
    "    + or $\\mathcal{F}_{S,T}(i-1,j-1)$).  \n",
    "\n",
    "+ In order to find the best alignment, \n",
    "\n",
    "+ To find the best alignment we start from the last element of the matrix (at row $|S|$ and column $|T|$) and we move backwards until we reach the first one (at row $0$ and column $0$). At each position we check which decision leaded to the actual solution (many solutions are sometimes possible, in this case you can keep all of them).\n",
    "    + If the decision was $F_{S,T}(i-1,j)$ then it means that $S[i]$ is aligned with a gap\n",
    "    + If the decision was $F_{S,T}(i,j-1)$ then $T[j]$ is aligned with a gap\n",
    "    + If it was $F_{S,T}(i-1,j-1)$ then $S[i]$ and $T[j]$ are aligned. You can use the records you made in the previous step or recompute the possibilities ... both are possible.\n",
    "\\end{itemize}"
   ]
  },
  {
   "cell_type": "code",
   "execution_count": null,
   "metadata": {},
   "outputs": [],
   "source": [
    "def NWmatrix2strings(S,T,D):\n",
    "    S_WITH_GAP = -1\n",
    "    T_WITH_GAP = 1\n",
    "    S_T_ALIGN = 0\n",
    "    i = D.shape[0]-1\n",
    "    j = D.shape[1]-1\n",
    "    S_aligned = \"\"\n",
    "    T_aligned = \"\"\n",
    "    while i > 0 or j > 0:\n",
    "        #print(i,j,T[j-1],S[i-1],D[i,j])\n",
    "        if D[i,j] == S_WITH_GAP:\n",
    "            S_aligned = S[i-1]+S_aligned\n",
    "            T_aligned = \"_\"+T_aligned\n",
    "            #print(S_aligned,T_aligned)\n",
    "            i -= 1\n",
    "        elif D[i,j] == T_WITH_GAP:\n",
    "            T_aligned = T[j-1]+ T_aligned\n",
    "            S_aligned = \"_\"+S_aligned\n",
    "            #print(S_aligned,T_aligned)\n",
    "            j -= 1\n",
    "        elif D[i,j] == S_T_ALIGN:\n",
    "            S_aligned = S[i-1] + S_aligned\n",
    "            T_aligned = T[j-1] + T_aligned\n",
    "            #print(S_aligned,T_aligned)\n",
    "            j -= 1\n",
    "            i -= 1\n",
    "    return(S_aligned,T_aligned)\n",
    "    \n",
    "def Needleman_Wunch(S,T,return_matrix=False):\n",
    "    T_WITH_GAP = 1\n",
    "    S_WITH_GAP = -1\n",
    "    S_T_ALIGN = 0\n",
    "    decision = [T_WITH_GAP,S_WITH_GAP,S_T_ALIGN]\n",
    "    F = np.zeros((len(S)+1,len(T)+1))\n",
    "    F[0,:] = range(len(T)+1)\n",
    "    F[:,0] = range(len(S)+1)\n",
    "    F *= -1\n",
    "    D = np.zeros((len(S)+1,len(T)+1))\n",
    "    D[0,1:] = T_WITH_GAP \n",
    "    D[1:,0] = S_WITH_GAP \n",
    "    for i in range(1,len(S)+1):\n",
    "        for j in range(1,len(T)+1):\n",
    "            comparison = int(S[i-1]==T[j-1]) # * 10\n",
    "            options = [F[i,j-1] - 1, F[i-1,j] - 1, F[i-1,j-1] + comparison]\n",
    "            F[i,j] = options[0]\n",
    "            D[i,j] = T_WITH_GAP\n",
    "            for o,val in enumerate(options):\n",
    "                if val > F[i,j]:\n",
    "                    F[i,j] = val\n",
    "                    D[i,j] = decision[o]\n",
    "    if return_matrix:\n",
    "        return F,D"
   ]
  },
  {
   "cell_type": "code",
   "execution_count": null,
   "metadata": {},
   "outputs": [],
   "source": [
    "S = \"dans l'herbe noire les gros kobolds vont \"\n",
    "T = \" dans l'herbe noire les kobolds vont le vent profond\"\n",
    "F,D = Needleman_Wunch(S,T,True)\n",
    "NWmatrix2strings(S,T,D)"
   ]
  },
  {
   "cell_type": "code",
   "execution_count": null,
   "metadata": {},
   "outputs": [],
   "source": [
    "print(F)"
   ]
  },
  {
   "cell_type": "code",
   "execution_count": null,
   "metadata": {},
   "outputs": [],
   "source": [
    "print(D)"
   ]
  },
  {
   "cell_type": "code",
   "execution_count": null,
   "metadata": {},
   "outputs": [],
   "source": [
    "plt.imshow(F)"
   ]
  },
  {
   "cell_type": "markdown",
   "metadata": {},
   "source": [
    "### 3.2) Smith-Waterman - local Alignment\n",
    "\n",
    "Smith-Waterman algorithm performs local sequence alignment, i.e., it finds alignments shorter than the entire sequences.\n",
    "This kind of alignments is particularly useful when we compare two sequences that are very different, but that may share some local regions with high similarity.\n",
    "The Smith-Waterman algorithm is very similar to the Needleman-Wunsch method.\n",
    "The only difference in terms of instructions to build the matrix is the following line: \n",
    "\n",
    "+ If $i=0$ or $j=0$ $F_{S,T}(i,j) = -max(i,j)$ (Needleman-Wunch)\n",
    "+ + If $i=0$ or $j=0$ $F_{S,T}(i,j) = 0$ (Smith-Waterman)\n",
    "\n",
    "Moreover, instead of starting at position $|S|$ and $|T|$ to track back the alignment, one should start at the maximal position in the matrix\n"
   ]
  },
  {
   "cell_type": "code",
   "execution_count": null,
   "metadata": {},
   "outputs": [],
   "source": [
    "def SWmatrix2strings(S,T,D,F):\n",
    "    S_WITH_GAP = -1\n",
    "    T_WITH_GAP = 1\n",
    "    S_T_ALIGN = 0\n",
    "    i,j = np.unravel_index(F.argmax(),F.shape)\n",
    "    print(i,j)\n",
    "    S_aligned = \"\"\n",
    "    T_aligned = \"\"\n",
    "    while i > 0 and j > 0:\n",
    "        #print(i,j,T[j-1],S[i-1],D[i,j])\n",
    "        if D[i,j] == S_WITH_GAP:\n",
    "            S_aligned = S[i-1]+S_aligned\n",
    "            T_aligned = \"_\"+T_aligned\n",
    "            #print(S_aligned,T_aligned)\n",
    "            i -= 1\n",
    "        elif D[i,j] == T_WITH_GAP:\n",
    "            T_aligned = T[j-1]+ T_aligned\n",
    "            S_aligned = \"_\"+S_aligned\n",
    "            #print(S_aligned,T_aligned)\n",
    "            j -= 1\n",
    "        elif D[i,j] == S_T_ALIGN:\n",
    "            S_aligned = S[i-1] + S_aligned\n",
    "            T_aligned = T[j-1] + T_aligned\n",
    "            #print(S_aligned,T_aligned)\n",
    "            j -= 1\n",
    "            i -= 1\n",
    "    return(S_aligned,T_aligned)\n",
    "\n",
    "def Smith_Waterman(S,T,return_matrix=False):\n",
    "    T_WITH_GAP = 1\n",
    "    S_WITH_GAP = -1\n",
    "    S_T_ALIGN = 0\n",
    "    decision = [T_WITH_GAP,S_WITH_GAP,S_T_ALIGN]\n",
    "    F = np.zeros((len(S)+1,len(T)+1))\n",
    "    D = np.zeros((len(S)+1,len(T)+1))\n",
    "    D[0,1:] = T_WITH_GAP \n",
    "    D[1:,0] = S_WITH_GAP \n",
    "    for i in range(1,len(S)+1):\n",
    "        for j in range(1,len(T)+1):\n",
    "            comparison = int(S[i-1]==T[j-1])\n",
    "            options = [F[i,j-1] - 1, F[i-1,j] - 1, F[i-1,j-1] + comparison]\n",
    "            F[i,j] = options[0]\n",
    "            D[i,j] = T_WITH_GAP\n",
    "            for o,val in enumerate(options):\n",
    "                if val > F[i,j]:\n",
    "                    F[i,j] = val\n",
    "                    D[i,j] = decision[o]\n",
    "    if return_matrix:\n",
    "        return F,D"
   ]
  },
  {
   "cell_type": "code",
   "execution_count": null,
   "metadata": {},
   "outputs": [],
   "source": [
    "S = \"un buisson gifle l'oeil au passant. dans l'herbe noir(e les kobolds vont \"\n",
    "T = \" dans l'herbe noire les kobolds vont le vent profond pleure on veut croire\"\n",
    "F,D = Smith_Waterman(S,T,True)\n",
    "SWmatrix2strings(S,T,D,F)"
   ]
  },
  {
   "cell_type": "code",
   "execution_count": null,
   "metadata": {},
   "outputs": [],
   "source": [
    "print(F)"
   ]
  },
  {
   "cell_type": "code",
   "execution_count": null,
   "metadata": {},
   "outputs": [],
   "source": [
    "plt.imshow(F)\n",
    "plt.show()"
   ]
  },
  {
   "cell_type": "code",
   "execution_count": null,
   "metadata": {},
   "outputs": [],
   "source": []
  }
 ],
 "metadata": {
  "kernelspec": {
   "display_name": "Python 3",
   "language": "python",
   "name": "python3"
  },
  "language_info": {
   "codemirror_mode": {
    "name": "ipython",
    "version": 3
   },
   "file_extension": ".py",
   "mimetype": "text/x-python",
   "name": "python",
   "nbconvert_exporter": "python",
   "pygments_lexer": "ipython3",
   "version": "3.9.5"
  },
  "latex_envs": {
   "LaTeX_envs_menu_present": true,
   "autoclose": false,
   "autocomplete": true,
   "bibliofile": "biblio.bib",
   "cite_by": "apalike",
   "current_citInitial": 1,
   "eqLabelWithNumbers": true,
   "eqNumInitial": 1,
   "hotkeys": {
    "equation": "Ctrl-E",
    "itemize": "Ctrl-I"
   },
   "labels_anchors": false,
   "latex_user_defs": false,
   "report_style_numbering": false,
   "user_envs_cfg": false
  }
 },
 "nbformat": 4,
 "nbformat_minor": 2
}
